{
 "cells": [
  {
   "cell_type": "code",
   "execution_count": null,
   "id": "69109bf2-8b78-428e-9e54-cb6ab38b585b",
   "metadata": {},
   "outputs": [],
   "source": [
    "path = 'videoblocks-aerial-view-people-walking-down-center-lane-grocery-shopping-by-produce-sec_ryyqlpbp3__9a31ad8ce3f137b6572eefb5e6255d81__P360.mp4'"
   ]
  },
  {
   "cell_type": "code",
   "execution_count": null,
   "id": "b93f720e-f534-40bd-9273-45254bb69129",
   "metadata": {
    "scrolled": true
   },
   "outputs": [],
   "source": [
    "import cv2\n",
    "\n",
    "from ultralytics import solutions\n",
    "\n",
    "cap = cv2.VideoCapture(path)\n",
    "assert cap.isOpened(), \"Error reading video file\"\n",
    "\n",
    "# Video writer\n",
    "w, h, fps = (int(cap.get(x)) for x in (cv2.CAP_PROP_FRAME_WIDTH, cv2.CAP_PROP_FRAME_HEIGHT, cv2.CAP_PROP_FPS))\n",
    "video_writer = cv2.VideoWriter(\"output/heatmap_output.mp4\", cv2.VideoWriter_fourcc(*\"mp4v\"), fps, (w, h))\n",
    "\n",
    "# For object counting with heatmap, you can pass region points.\n",
    "# region_points = [(20, 400), (1080, 400)]                                      # line points\n",
    "# region_points = [(20, 400), (1080, 400), (1080, 360), (20, 360)]              # rectangle region\n",
    "# region_points = [(20, 400), (1080, 400), (1080, 360), (20, 360), (20, 400)]   # polygon points\n",
    "\n",
    "# Initialize heatmap object\n",
    "heatmap = solutions.Heatmap(\n",
    "    show=True,  # display the output\n",
    "    model=\"yolo11n.pt\",  # path to the YOLO11 model file\n",
    "    colormap=cv2.COLORMAP_PARULA,  # colormap of heatmap\n",
    "    classes=[0]\n",
    "    # region=region_points,  # object counting with heatmaps, you can pass region_points\n",
    "    # classes=[0, 2],  # generate heatmap for specific classes i.e person and car.\n",
    ")\n",
    "\n",
    "# Process video\n",
    "while cap.isOpened():\n",
    "    success, im0 = cap.read()\n",
    "\n",
    "    if not success:\n",
    "        print(\"Video frame is empty or processing is complete.\")\n",
    "        break\n",
    "\n",
    "    results = heatmap(im0)\n",
    "\n",
    "    # print(results)  # access the output\n",
    "\n",
    "    video_writer.write(results.plot_im)  # write the processed frame.\n",
    "\n",
    "cap.release()\n",
    "video_writer.release()\n",
    "cv2.destroyAllWindows()  # destroy all opened windows"
   ]
  },
  {
   "cell_type": "code",
   "execution_count": null,
   "id": "759c155a-2edb-48b9-9aa8-d343a0bd0753",
   "metadata": {},
   "outputs": [],
   "source": []
  }
 ],
 "metadata": {
  "kernelspec": {
   "display_name": "conda_python3",
   "language": "python",
   "name": "conda_python3"
  },
  "language_info": {
   "codemirror_mode": {
    "name": "ipython",
    "version": 3
   },
   "file_extension": ".py",
   "mimetype": "text/x-python",
   "name": "python",
   "nbconvert_exporter": "python",
   "pygments_lexer": "ipython3",
   "version": "3.10.17"
  }
 },
 "nbformat": 4,
 "nbformat_minor": 5
}
